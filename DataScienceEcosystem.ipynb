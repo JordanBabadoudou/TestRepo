{
 "cells": [
  {
   "cell_type": "markdown",
   "id": "5b439659-978f-4d04-b11f-b6baa6f97141",
   "metadata": {},
   "source": [
    "# Outils et écosystème de la science des données"
   ]
  },
  {
   "cell_type": "markdown",
   "id": "88acd112-9691-484e-8646-b2e10287acd3",
   "metadata": {},
   "source": [
    "Dans ce notebook, les outils et l'écosystème de la science des données sont résumés."
   ]
  },
  {
   "cell_type": "markdown",
   "id": "67efb95e-011a-4fdd-a25f-4a6210d5b1ca",
   "metadata": {},
   "source": [
    "Certains des langages populaires que les scientifiques des données utilisent sont :\n",
    "1. Python\n",
    "2. R\n",
    "3. Julia\n",
    "4. Scala\n",
    "5. C++"
   ]
  },
  {
   "cell_type": "markdown",
   "id": "77bffc11-4c90-4877-87db-b20982b1d21c",
   "metadata": {},
   "source": [
    "Certaines des bibliothèques couramment utilisées par les scientifiques des données incluent :\n",
    "1. Matplotlib\n",
    "2. Pandas\n",
    "3. Numpy"
   ]
  },
  {
   "cell_type": "markdown",
   "id": "cd02806b-4f22-4351-b7ac-bbf8edc99205",
   "metadata": {},
   "source": [
    "|Outils de la science des données|\n",
    "|--------------------------------|\n",
    "| Jupyter Lab                    |\n",
    "| MySQL                          |\n",
    "| MongoDB                        |\n",
    "| Github                         |\n",
    "| Kubernetes                     |"
   ]
  },
  {
   "cell_type": "markdown",
   "id": "19cc4117-113f-4af4-b31a-39afda4c1ea9",
   "metadata": {},
   "source": [
    "### Voici quelques exemples d'évaluation d'expressions arithmétiques en Python."
   ]
  },
  {
   "cell_type": "code",
   "execution_count": 5,
   "id": "c51261d6-26b6-4534-bb98-85748e703350",
   "metadata": {},
   "outputs": [
    {
     "data": {
      "text/plain": [
       "17"
      ]
     },
     "execution_count": 5,
     "metadata": {},
     "output_type": "execute_result"
    }
   ],
   "source": [
    "#Ceci est une simple expression arithmétique pour multiplier puis additionner des entiers\n",
    "(3*4)+5"
   ]
  },
  {
   "cell_type": "code",
   "execution_count": 10,
   "id": "4856ba85-bd9a-49e9-99a0-0f2ad47bf1be",
   "metadata": {},
   "outputs": [
    {
     "name": "stdout",
     "output_type": "stream",
     "text": [
      "3 h 3 min\n"
     ]
    }
   ],
   "source": [
    "#Cela convertira 200 minutes en heures en divisant par 60\n",
    "heure = 200 // 60\n",
    "minutes = heure % 60\n",
    "print(heure, \"h\", minutes, \"min\")"
   ]
  },
  {
   "cell_type": "markdown",
   "id": "130b2f24-f4f9-4ea6-89b2-398d9c26ada3",
   "metadata": {},
   "source": [
    "***Objectifs :***\n",
    "* Lister les langages populaires pour la science des données\n",
    "* Lister les bibliotheques populaires pour la science des données\n",
    "* Lister les outils populaires pour la science des données"
   ]
  },
  {
   "cell_type": "markdown",
   "id": "679bb684-2e38-49eb-ad74-f545dda5f4bf",
   "metadata": {},
   "source": [
    "## Auteur \n",
    "Jordan BABADOUDOU"
   ]
  }
 ],
 "metadata": {
  "kernelspec": {
   "display_name": "Python 3 (ipykernel)",
   "language": "python",
   "name": "python3"
  },
  "language_info": {
   "codemirror_mode": {
    "name": "ipython",
    "version": 3
   },
   "file_extension": ".py",
   "mimetype": "text/x-python",
   "name": "python",
   "nbconvert_exporter": "python",
   "pygments_lexer": "ipython3",
   "version": "3.12.2"
  }
 },
 "nbformat": 4,
 "nbformat_minor": 5
}
